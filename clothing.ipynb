{
 "cells": [
  {
   "cell_type": "code",
   "execution_count": 26,
   "metadata": {},
   "outputs": [],
   "source": [
    "import numpy\n",
    "import urllib\n",
    "import scipy.optimize\n",
    "import random\n",
    "from collections import defaultdict # Dictionaries with default values\n",
    "import nltk\n",
    "import string\n",
    "from nltk.stem.porter import *\n",
    "from sklearn import linear_model\n",
    "import ast"
   ]
  },
  {
   "cell_type": "code",
   "execution_count": 4,
   "metadata": {},
   "outputs": [],
   "source": [
    "def parseData(file):\n",
    "    for l in open(file,'r'):\n",
    "        yield json.loads(l)\n",
    "        \n",
    "def remove_punctuation(text):\n",
    "    return ''.join([c.lower() for c in text if c not in set(string.punctuation)])"
   ]
  },
  {
   "cell_type": "code",
   "execution_count": 15,
   "metadata": {},
   "outputs": [],
   "source": [
    "def get_info(d):\n",
    "    return [d['review_text'] + ' ' + d['review_summary'], d['fit']]"
   ]
  },
  {
   "cell_type": "code",
   "execution_count": 16,
   "metadata": {},
   "outputs": [],
   "source": [
    "row_data = list(parseData('renttherunway_final_data.json'))\n",
    "data = [get_info(d) for d in row_data]"
   ]
  },
  {
   "cell_type": "code",
   "execution_count": 17,
   "metadata": {},
   "outputs": [
    {
     "data": {
      "text/plain": [
       "['I rented this dress for a photo shoot. The theme was \"Hollywood Glam and Big Beautiful Hats\". The dress was very comfortable and easy to move around in. It is definitely on my list to rent again for another formal event.  I felt so glamourous!!!',\n",
       " 'fit']"
      ]
     },
     "execution_count": 17,
     "metadata": {},
     "output_type": "execute_result"
    }
   ],
   "source": [
    "data[1]"
   ]
  },
  {
   "cell_type": "code",
   "execution_count": 19,
   "metadata": {},
   "outputs": [],
   "source": [
    "def statistic_analyse(data):\n",
    "    num_fit = 0\n",
    "    num_small = 0\n",
    "    num_large = 0\n",
    "    num_other = 0\n",
    "    for d in data:\n",
    "        fit = d[1]\n",
    "        if (fit == 'fit'): num_fit += 1\n",
    "        elif (fit == 'small'): num_small += 1\n",
    "        elif (fit == 'large'): num_large += 1\n",
    "        else: num_other += 1\n",
    "    ret = {\n",
    "        'fit': num_fit,\n",
    "        'small': num_small,\n",
    "        'large': num_large,\n",
    "        'other': num_other\n",
    "    }\n",
    "    return ret"
   ]
  },
  {
   "cell_type": "code",
   "execution_count": 20,
   "metadata": {},
   "outputs": [
    {
     "data": {
      "text/plain": [
       "{'fit': 142058, 'small': 25779, 'large': 24707, 'other': 0}"
      ]
     },
     "execution_count": 20,
     "metadata": {},
     "output_type": "execute_result"
    }
   ],
   "source": [
    "statistic_analyse(data)"
   ]
  },
  {
   "cell_type": "code",
   "execution_count": 88,
   "metadata": {},
   "outputs": [],
   "source": [
    "reviews_fit = []\n",
    "reviews_small = []\n",
    "reviews_large = []\n",
    "cnt = 5\n",
    "for d in data:\n",
    "    fit = d[1]\n",
    "    t = d[0]\n",
    "    if fit == 'fit' and len(reviews_fit) < cnt:\n",
    "        reviews_fit.append(t)\n",
    "    if fit == 'small' and len(reviews_small) < cnt:\n",
    "        reviews_small.append(t)\n",
    "    if fit == 'large' and len(reviews_large) < cnt:\n",
    "        reviews_large.append(t)\n",
    "    if len(reviews_fit) >= cnt and len(reviews_small) >= cnt and len(reviews_large) >= cnt:\n",
    "        break"
   ]
  },
  {
   "cell_type": "code",
   "execution_count": 89,
   "metadata": {},
   "outputs": [
    {
     "name": "stdout",
     "output_type": "stream",
     "text": [
      "An adorable romper! Belt and zipper were a little hard to navigate in a full day of wear/bathroom use, but that's to be expected. Wish it had pockets, but other than that-- absolutely perfect! I got a million compliments. So many compliments!\n",
      "\n",
      "I rented this dress for a photo shoot. The theme was \"Hollywood Glam and Big Beautiful Hats\". The dress was very comfortable and easy to move around in. It is definitely on my list to rent again for another formal event.  I felt so glamourous!!!\n",
      "\n",
      "This hugged in all the right places! It was a perfect dress for my event and I received so many compliments on it. Not to mention customer service was great getting this to me in less than 24 hours! It was a great time to celebrate the (almost) completion of my first year of law school.\n",
      "\n",
      "I rented this for my company's black tie awards banquet.  I liked that this dress was short but was a little fancier with the sequins. (I generally don't care for long dresses.)  I would describe the color as more rose gold than yellow gold.  I have blonde hair and fair skin, and the color was very flattering.  This is a very forgiving dress! It's form fitting without making you feel like you're squeezed into it.  I would rent this one again.  Highly recommend! Dress arrived on time and in perfect condition. \n",
      "\n",
      "I have always been petite in my upper body and extremely athletic. \n",
      "I'm 5'9 and typically am a size 4,6,8 due to the fact I had a smaller upper frame and 34B cup. Depends what fabric were talking about too! \n",
      "However, because I have been lifting weights my back has grown (odd to add- but figured I'd say it knowing other people lift weights) My lat area is so wide that I was suffocating in a size 6. If I wasn't as muscular in my back I would've been fine. I would recommend to go up a size if you are into lifting weights and very broad in your upper body.  Was in love with this dress !!!\n",
      "\n"
     ]
    }
   ],
   "source": [
    "for t in reviews_fit:\n",
    "    print(t + '\\n')"
   ]
  },
  {
   "cell_type": "code",
   "execution_count": 90,
   "metadata": {},
   "outputs": [
    {
     "name": "stdout",
     "output_type": "stream",
     "text": [
      "The dress arrived with a small hole in the beading on the front but wasn't too noticeable. Glad I was able to get two sizes because the 4 was a little tight and would've made for an uncomfortable night of dancing!  It was fun to wear a dress I wouldn't normally buy! \n",
      "\n",
      "super cute, 8 was super tight so i wore the 10. if you have booty and hips prob want to get the 10. don't need bra and it has structure to give you shape. the train in the back is extra classy to give it another emphasis for formal.  gala ready \n",
      "\n",
      "Lovely fabric, heavier than I imagined it would be (somehow I thought billowy, but its softer and stiffer than that) but it runs small around the ribcage - my normal size gapped 2 inches. I've sent it right back to try the larger size. Pretty! Runs small\n",
      "\n",
      "Huge on top and super tight in the waist strange fit\n",
      "\n",
      "Great dress! super comfortable. M fit but too snug for my liking.   Hem hit right above knee. Would rent again ! Love!!\n",
      "\n"
     ]
    }
   ],
   "source": [
    "for t in reviews_small:\n",
    "    print(t + '\\n')"
   ]
  },
  {
   "cell_type": "code",
   "execution_count": 91,
   "metadata": {},
   "outputs": [
    {
     "name": "stdout",
     "output_type": "stream",
     "text": [
      "This dress was absolutely gorgeous and I received so many compliments!  I wore it to a black tie NYE wedding, and even though it was short, I felt like the fabric, fit, and the way it sparkled made it fit in just fine with the other formal gowns.  I usually wear a 6 or an 8 in dresses.  I ordered a 4 and a 6, and true to other reviewers' comments, the 4 fit me very well.  The chest area was just a tad loose, but that typically happens when I try on dresses...nothing a more padded bra couldn't fix!  The cut and fit were very figure flattering.  By the end of the evening I experience a little chafing under my arms from the sequins, but that was after 5 hours and it was very minor.  Thank you RTR for a great first experience, I'll definitely be back! Stunning dress, perfect for a New Year's Eve wedding!\n",
      "\n",
      "I ordered this dress as a replacement because I thought my original order would be too small.  This dress fit my abdomen well, but it hung slack around my shoulders and neck.  I wouldn't recommend a large size for apple body shapes; get the smaller size and let it hug you! Ordered this as a replacement dress\n",
      "\n",
      "This dress definitely runs a little large - especially since it's more of a loose style so I would suggest sizing down. It also runs a bit short, so if you are taller or have longer legs like me it definitely will not hit the ground. \n",
      "\n",
      "The material is incredibly soft and the pattern looks like stripes in photos but is more like a watercolor painting - received lots of compliments on this one. Gorgeous flowy dress\n",
      "\n",
      "Runs a little large and long, I am 5'7 and 130 lbs and this was a tad too big and long. Overall still a great dress for work. Material is pretty thick so would be great for spring, fall.  Cute dress, thick material\n",
      "\n",
      "Want want want \n",
      "It's such a thick cable, soft and great to wear  Brunch top for sure!! \n",
      "It's like wearing your pajamas out in public, but looking classy and sexy. \n",
      "\n",
      "\n"
     ]
    }
   ],
   "source": [
    "for t in reviews_large:\n",
    "    print(t + '\\n')"
   ]
  },
  {
   "cell_type": "code",
   "execution_count": 42,
   "metadata": {},
   "outputs": [],
   "source": [
    "word_count = defaultdict(int)\n",
    "total_words = 0\n",
    "punct = string.punctuation\n",
    "stemmer = PorterStemmer()"
   ]
  },
  {
   "cell_type": "code",
   "execution_count": 55,
   "metadata": {},
   "outputs": [],
   "source": [
    "for d in data:\n",
    "    t = d[0]\n",
    "    t = t.lower()\n",
    "    t = [c if not (c in punct) else ' ' for c in t] # repalce punct to space\n",
    "#     t = [c for c in t if not (c in punct)] # non-punct characters\n",
    "    t = ''.join(t) # convert back to string\n",
    "    words = t.strip().split() # tokenizes\n",
    "    for w in words:\n",
    "        #w = stemmer.stem(w)\n",
    "        total_words += 1\n",
    "        word_count[w] += 1"
   ]
  },
  {
   "cell_type": "code",
   "execution_count": 56,
   "metadata": {},
   "outputs": [
    {
     "data": {
      "text/plain": [
       "25327930"
      ]
     },
     "execution_count": 56,
     "metadata": {},
     "output_type": "execute_result"
    }
   ],
   "source": [
    "total_words"
   ]
  },
  {
   "cell_type": "code",
   "execution_count": 57,
   "metadata": {},
   "outputs": [
    {
     "data": {
      "text/plain": [
       "54180"
      ]
     },
     "execution_count": 57,
     "metadata": {},
     "output_type": "execute_result"
    }
   ],
   "source": [
    "len(word_count)"
   ]
  },
  {
   "cell_type": "code",
   "execution_count": 58,
   "metadata": {},
   "outputs": [],
   "source": [
    "counts = [(word_count[w], w) for w in word_count]\n",
    "counts.sort()\n",
    "counts.reverse()"
   ]
  },
  {
   "cell_type": "code",
   "execution_count": 59,
   "metadata": {},
   "outputs": [
    {
     "data": {
      "text/plain": [
       "[(1370533, 'the'),\n",
       " (1098484, 'i'),\n",
       " (911622, 'a'),\n",
       " (842724, 'and'),\n",
       " (781726, 'it'),\n",
       " (672632, 'dress'),\n",
       " (641210, 'was'),\n",
       " (501284, 'to'),\n",
       " (470007, 'this'),\n",
       " (359009, 'for')]"
      ]
     },
     "execution_count": 59,
     "metadata": {},
     "output_type": "execute_result"
    }
   ],
   "source": [
    "counts[:10]"
   ]
  },
  {
   "cell_type": "code",
   "execution_count": 72,
   "metadata": {},
   "outputs": [
    {
     "data": {
      "text/plain": [
       "[(72068, 'if'),\n",
       " (67632, 'bit'),\n",
       " (66488, 'really'),\n",
       " (65765, 'long'),\n",
       " (65118, 'because'),\n",
       " (65093, 'definitely'),\n",
       " (64656, 'out'),\n",
       " (63798, 'flattering'),\n",
       " (63655, 'or'),\n",
       " (63329, 'length')]"
      ]
     },
     "execution_count": 72,
     "metadata": {},
     "output_type": "execute_result"
    }
   ],
   "source": [
    "counts[50:60]"
   ]
  },
  {
   "cell_type": "code",
   "execution_count": 67,
   "metadata": {},
   "outputs": [
    {
     "data": {
      "text/plain": [
       "[(2, 'saflely'),\n",
       " (2, 'safisticated'),\n",
       " (2, 'safeguards'),\n",
       " (2, 'safeand'),\n",
       " (2, 'saddled'),\n",
       " (2, 'sacks'),\n",
       " (2, 'sachi'),\n",
       " (2, 'saccharine'),\n",
       " (2, 'sabred'),\n",
       " (2, 'sa')]"
      ]
     },
     "execution_count": 67,
     "metadata": {},
     "output_type": "execute_result"
    }
   ],
   "source": [
    "counts[25000:25010]"
   ]
  },
  {
   "cell_type": "code",
   "execution_count": 68,
   "metadata": {},
   "outputs": [
    {
     "data": {
      "text/plain": [
       "50835"
      ]
     },
     "execution_count": 68,
     "metadata": {},
     "output_type": "execute_result"
    }
   ],
   "source": [
    "word_count['small']"
   ]
  },
  {
   "cell_type": "code",
   "execution_count": 69,
   "metadata": {},
   "outputs": [
    {
     "data": {
      "text/plain": [
       "33056"
      ]
     },
     "execution_count": 69,
     "metadata": {},
     "output_type": "execute_result"
    }
   ],
   "source": [
    "word_count['large']"
   ]
  },
  {
   "cell_type": "code",
   "execution_count": 70,
   "metadata": {},
   "outputs": [
    {
     "data": {
      "text/plain": [
       "211022"
      ]
     },
     "execution_count": 70,
     "metadata": {},
     "output_type": "execute_result"
    }
   ],
   "source": [
    "word_count['fit']"
   ]
  },
  {
   "cell_type": "code",
   "execution_count": 71,
   "metadata": {},
   "outputs": [
    {
     "data": {
      "text/plain": [
       "147467"
      ]
     },
     "execution_count": 71,
     "metadata": {},
     "output_type": "execute_result"
    }
   ],
   "source": [
    "word_count['perfect']"
   ]
  },
  {
   "cell_type": "code",
   "execution_count": 73,
   "metadata": {},
   "outputs": [],
   "source": [
    "words = [w[1] for w in counts[:1000]]"
   ]
  },
  {
   "cell_type": "code",
   "execution_count": 74,
   "metadata": {},
   "outputs": [
    {
     "data": {
      "text/plain": [
       "['the', 'i', 'a', 'and', 'it', 'dress', 'was', 'to', 'this', 'for']"
      ]
     },
     "execution_count": 74,
     "metadata": {},
     "output_type": "execute_result"
    }
   ],
   "source": [
    "words[:10]"
   ]
  },
  {
   "cell_type": "code",
   "execution_count": 75,
   "metadata": {},
   "outputs": [],
   "source": [
    "wordId = dict(zip(words, range(len(words))))\n",
    "wordSet = set(words)"
   ]
  },
  {
   "cell_type": "code",
   "execution_count": 93,
   "metadata": {},
   "outputs": [
    {
     "data": {
      "text/plain": [
       "(76, 129, 75, 234, 595)"
      ]
     },
     "execution_count": 93,
     "metadata": {},
     "output_type": "execute_result"
    }
   ],
   "source": [
    "wordId['small'], wordId['large'], wordId['tight'], wordId['larger'], wordId['tiny']"
   ]
  },
  {
   "cell_type": "markdown",
   "metadata": {},
   "source": [
    "# Train a regressor"
   ]
  },
  {
   "cell_type": "code",
   "execution_count": 138,
   "metadata": {},
   "outputs": [],
   "source": [
    "def feature(datum):\n",
    "    feat = [0]*len(wordSet)\n",
    "    t = datum[0]\n",
    "    t = t.lower() # lowercase string\n",
    "    t = [c if not (c in punct) else ' ' for c in t] # repalce punct to space\n",
    "    t = ''.join(t) # convert back to string\n",
    "    words = t.strip().split() # tokenizes\n",
    "    for w in words:\n",
    "        if not (w in wordSet): continue\n",
    "        feat[wordId[w]] += 1\n",
    "    feat.append(1)\n",
    "    return feat\n",
    "\n",
    "def lable(datum):\n",
    "#     ret = [0, 0, 0]\n",
    "    lables = ['fit', 'small', 'large']\n",
    "    for i in range(0, len(lables)):\n",
    "        if datum[1] == lables[i]:\n",
    "            return i\n",
    "#             ret[i] = 1\n",
    "#             break\n",
    "    return -1"
   ]
  },
  {
   "cell_type": "code",
   "execution_count": 94,
   "metadata": {},
   "outputs": [],
   "source": [
    "random.seed(1)\n",
    "random.shuffle(data)\n",
    "size_tot = len(data)\n",
    "size_train = int(size_tot * 0.8)\n",
    "size_dev = int(size_tot * 0.1)\n",
    "size_test = size_tot - size_train - size_dev\n",
    "data_train = data[:size_train]\n",
    "data_dev = data[size_train:size_train + size_dev]\n",
    "data_test = data[-size_test:]"
   ]
  },
  {
   "cell_type": "code",
   "execution_count": 95,
   "metadata": {},
   "outputs": [
    {
     "data": {
      "text/plain": [
       "(154035, 19254, 19255)"
      ]
     },
     "execution_count": 95,
     "metadata": {},
     "output_type": "execute_result"
    }
   ],
   "source": [
    "len(data_train), len(data_dev), len(data_test)"
   ]
  },
  {
   "cell_type": "code",
   "execution_count": null,
   "metadata": {},
   "outputs": [],
   "source": []
  },
  {
   "cell_type": "code",
   "execution_count": 105,
   "metadata": {},
   "outputs": [],
   "source": [
    "from sklearn.linear_model import SGDClassifier"
   ]
  },
  {
   "cell_type": "code",
   "execution_count": 97,
   "metadata": {},
   "outputs": [],
   "source": [
    "from sklearn.linear_model import LogisticRegression"
   ]
  },
  {
   "cell_type": "code",
   "execution_count": 106,
   "metadata": {},
   "outputs": [],
   "source": [
    "clf = SGDClassifier(loss=\"hinge\", penalty=\"l2\", max_iter=5)"
   ]
  },
  {
   "cell_type": "code",
   "execution_count": 116,
   "metadata": {},
   "outputs": [],
   "source": [
    "X = [feature(d) for d in data_train]\n",
    "y = [lable(d) for d in data_train]"
   ]
  },
  {
   "cell_type": "code",
   "execution_count": 117,
   "metadata": {},
   "outputs": [],
   "source": [
    "from sklearn import svm"
   ]
  },
  {
   "cell_type": "code",
   "execution_count": 122,
   "metadata": {},
   "outputs": [
    {
     "name": "stderr",
     "output_type": "stream",
     "text": [
      "/Users/czf/opt/anaconda3/lib/python3.7/site-packages/sklearn/svm/base.py:929: ConvergenceWarning: Liblinear failed to converge, increase the number of iterations.\n",
      "  \"the number of iterations.\", ConvergenceWarning)\n"
     ]
    },
    {
     "data": {
      "text/plain": [
       "LinearSVC(C=1.0, class_weight=None, dual=True, fit_intercept=True,\n",
       "          intercept_scaling=1, loss='squared_hinge', max_iter=1000,\n",
       "          multi_class='ovr', penalty='l2', random_state=None, tol=0.0001,\n",
       "          verbose=0)"
      ]
     },
     "execution_count": 122,
     "metadata": {},
     "output_type": "execute_result"
    }
   ],
   "source": [
    "lin_clf = svm.LinearSVC()\n",
    "lin_clf.fit(X, y) "
   ]
  },
  {
   "cell_type": "code",
   "execution_count": 143,
   "metadata": {},
   "outputs": [],
   "source": [
    "X_dev = [feature(d) for d in data_dev]\n",
    "y_dev = [lable(d) for d in data_dev]\n",
    "dec = lin_clf.decision_function(X_dev)"
   ]
  },
  {
   "cell_type": "code",
   "execution_count": 144,
   "metadata": {},
   "outputs": [
    {
     "data": {
      "text/plain": [
       "[0, 0, 0, 0, 1, 0, 0, 0, 1, 0]"
      ]
     },
     "execution_count": 144,
     "metadata": {},
     "output_type": "execute_result"
    }
   ],
   "source": [
    "y_dev[:10]"
   ]
  },
  {
   "cell_type": "code",
   "execution_count": 150,
   "metadata": {},
   "outputs": [],
   "source": [
    "def dev2res(datum):\n",
    "    ret = 0\n",
    "    for i in range(1, len(datum)):\n",
    "        if datum[i] > datum[ret]:\n",
    "            ret = i\n",
    "    return ret\n",
    "        \n",
    "def evaluate(y, pred):\n",
    "    pred = [dev2res(d) for d in pred]\n",
    "    t_fit, f_fit, t_small, f_small, t_large, f_large = 0, 0, 0, 0, 0, 0\n",
    "    correct = 0\n",
    "    tot, tot_fit, tot_small, tot_large = len(y), 0, 0, 0\n",
    "    \n",
    "    for i in range(0, tot):\n",
    "        if pred[i] == y[i]:\n",
    "            correct += 1\n",
    "        if pred[i] == 0: #fit\n",
    "            if y[i] == pred[i]: t_fit += 1\n",
    "            else: f_fit += 1\n",
    "            tot_fit += 1\n",
    "        elif pred[i] == 1: #small\n",
    "            if y[i] == pred[i]: t_small += 1\n",
    "            else: f_small += 1\n",
    "            tot_small += 1\n",
    "        else:\n",
    "            if y[i] == pred[i]: t_large += 1\n",
    "            else: f_large += 1\n",
    "            tot_large += 1\n",
    "    \n",
    "    precision_fit = t_fit / (t_fit + f_fit)\n",
    "    precision_small = t_small / (t_small + f_small)\n",
    "    precision_lager = t_large / (t_large + f_large)\n",
    "    \n",
    "    recall_fit = t_fit / tot_fit\n",
    "    recall_small = t_small / tot_small\n",
    "    recall_large = t_large / tot_large\n",
    "    \n",
    "    acc = correct / tot\n",
    "    \n",
    "    return {\n",
    "        'acc': acc,\n",
    "        'precision_fit': precision_fit, \n",
    "        'precision_small': precision_small, \n",
    "        'precision_lager': precision_lager, \n",
    "        'recall_fit': recall_fit, \n",
    "        'recall_small': recall_small, \n",
    "        'recall_large': recall_large, \n",
    "    }\n",
    "    "
   ]
  },
  {
   "cell_type": "code",
   "execution_count": 151,
   "metadata": {},
   "outputs": [
    {
     "data": {
      "text/plain": [
       "{'acc': 0.8051314012672691,\n",
       " 'precision_fit': 0.816711915535445,\n",
       " 'precision_small': 0.7111913357400722,\n",
       " 'precision_lager': 0.7573415765069552,\n",
       " 'recall_fit': 0.816711915535445,\n",
       " 'recall_small': 0.7111913357400722,\n",
       " 'recall_large': 0.7573415765069552}"
      ]
     },
     "execution_count": 151,
     "metadata": {},
     "output_type": "execute_result"
    }
   ],
   "source": [
    "evaluate(y_dev, dec)"
   ]
  },
  {
   "cell_type": "code",
   "execution_count": 153,
   "metadata": {},
   "outputs": [],
   "source": [
    "theta = lin_clf.coef_"
   ]
  },
  {
   "cell_type": "code",
   "execution_count": 159,
   "metadata": {},
   "outputs": [
    {
     "name": "stdout",
     "output_type": "stream",
     "text": [
      "('true', 0.7571825051953963)\n",
      "('57', 0.6856793031700595)\n",
      "('ive', 0.24567619356937026)\n",
      "('deal', 0.24329006282118168)\n",
      "('youre', 0.19280740545364602)\n",
      "('chested', 0.1915635482142574)\n",
      "('ride', 0.1697952998850147)\n",
      "('between', 0.1601586928906236)\n",
      "('depending', 0.15014589464131461)\n",
      "('dream', 0.14057191092226481)\n",
      "('nervous', 0.13986959126689294)\n",
      "('fix', 0.13683101830387187)\n",
      "('cup', 0.12643917109273203)\n",
      "('glove', 0.12564038465434743)\n",
      "('slimming', 0.12004221800110676)\n",
      "('excellent', 0.11646162336380528)\n",
      "('thats', 0.11505472804304309)\n",
      "('perfectly', 0.1127677509670407)\n",
      "('bought', 0.10959951525118483)\n",
      "('buying', 0.10657660776852672)\n",
      "('weeks', 0.10237673364169757)\n",
      "('bother', 0.10166363852043488)\n",
      "('worried', 0.09838285206517286)\n",
      "('trouble', 0.09680463912893308)\n",
      "('pear', 0.09522761374396335)\n",
      "('princess', 0.09393512900410303)\n",
      "('mesh', 0.09316273113319538)\n",
      "('team', 0.09191228531440375)\n",
      "('sat', 0.09127825633165786)\n",
      "('concerned', 0.0902430250043143)\n",
      "('wouldnt', 0.09007081956010972)\n",
      "('noticed', 0.08836295783793999)\n",
      "('perfect', 0.087345147368081)\n",
      "('perfection', 0.0851511838535543)\n",
      "('unavailable', 0.08458958127743993)\n",
      "('dressed', 0.08130843637590872)\n",
      "('lightweight', 0.08129796449706139)\n",
      "('slightly', 0.08111574813406613)\n",
      "('pleased', 0.08071796336561662)\n",
      "('picked', 0.08047552647694678)\n",
      "('sometimes', 0.08045821671518581)\n",
      "('owned', 0.07941345993139029)\n",
      "('thigh', 0.07929018463700087)\n",
      "('available', 0.07918673064905414)\n",
      "('conscious', 0.07780577151878423)\n",
      "('nicely', 0.07779029709383098)\n",
      "('bucks', 0.07694266395616799)\n",
      "('similar', 0.07689734358481654)\n",
      "('medium', 0.07625719604295086)\n",
      "('stood', 0.0744752589570709)\n",
      "\n",
      "('58', 0.5324012050068854)\n",
      "('53', 0.45536484552777223)\n",
      "('small', 0.37736246807921575)\n",
      "('runs', 0.3464779971899559)\n",
      "('tight', 0.33330277801703184)\n",
      "('56', 0.2776647310501968)\n",
      "('ran', 0.27300778126490877)\n",
      "('snug', 0.266735092820335)\n",
      "('run', 0.24070621122444522)\n",
      "('sized', 0.2321831966988043)\n",
      "('barely', 0.2127292719597465)\n",
      "('rib', 0.1880138044493867)\n",
      "('up', 0.18658058441597436)\n",
      "('glad', 0.16121476901196163)\n",
      "('ribcage', 0.15583803819496256)\n",
      "('zip', 0.15502538616798456)\n",
      "('normally', 0.15347752171478402)\n",
      "('couldnt', 0.14915975834699985)\n",
      "('usually', 0.14511166512859452)\n",
      "('typically', 0.14049531575399515)\n",
      "('couldn', 0.14039275304675736)\n",
      "('52', 0.13252296568664057)\n",
      "('deal', 0.1312831912210295)\n",
      "('sizing', 0.12971841224995953)\n",
      "('booty', 0.12884496485398372)\n",
      "('self', 0.12043129854429588)\n",
      "('zipped', 0.10558208520407593)\n",
      "('short', 0.10361632039225681)\n",
      "('except', 0.10318403335139575)\n",
      "('unfortunately', 0.10195387342346912)\n",
      "('give', 0.10116025697242295)\n",
      "('does', 0.10050774653177096)\n",
      "('across', 0.09935856163966929)\n",
      "('unless', 0.09428035986376813)\n",
      "('tighter', 0.0936817385852231)\n",
      "('into', 0.09068511566130912)\n",
      "('cutouts', 0.08853968757416192)\n",
      "('narrow', 0.08833898652988849)\n",
      "('12', 0.0866447852095628)\n",
      "('awkward', 0.08663691368298622)\n",
      "('sizes', 0.08593208058953884)\n",
      "('usual', 0.0846801782379416)\n",
      "('tricky', 0.08408533255368998)\n",
      "('based', 0.0799462775752808)\n",
      "('cutout', 0.07937143303016511)\n",
      "('bodice', 0.07891569716346628)\n",
      "('size', 0.07588330477258487)\n",
      "('l', 0.0754506623052484)\n",
      "('8', 0.07536640128130849)\n",
      "('broad', 0.07499356841844008)\n",
      "\n",
      "('large', 0.5419253264148798)\n",
      "('big', 0.4571822393951811)\n",
      "('59', 0.4172660599762544)\n",
      "('baggy', 0.36504435364737603)\n",
      "('roomy', 0.3574694300520482)\n",
      "('runs', 0.34892378976722516)\n",
      "('ran', 0.3453101141400498)\n",
      "('down', 0.3164864365721358)\n",
      "('huge', 0.309340580494457)\n",
      "('boxy', 0.300309208464175)\n",
      "('loose', 0.2889644324692252)\n",
      "('run', 0.2857965583914454)\n",
      "('xs', 0.2649266521849626)\n",
      "('55', 0.23014141205642888)\n",
      "('smaller', 0.21866310810082043)\n",
      "('fill', 0.19581172645092002)\n",
      "('58', 0.1839865475376718)\n",
      "('isnt', 0.17318354849963252)\n",
      "('stretched', 0.1515860590861931)\n",
      "('belt', 0.13648482984303356)\n",
      "('sized', 0.13267603019433785)\n",
      "('normally', 0.1325322193462516)\n",
      "('wide', 0.12992243283176813)\n",
      "('typically', 0.12881211202930595)\n",
      "('usually', 0.1278125543607749)\n",
      "('54', 0.11518636669493035)\n",
      "('doesnt', 0.10999193032887275)\n",
      "('ended', 0.10702664490017105)\n",
      "('done', 0.10273601224361231)\n",
      "('stay', 0.1014762599540116)\n",
      "('sort', 0.09958672562541487)\n",
      "('gotten', 0.09774765270575811)\n",
      "('reading', 0.09691530466387346)\n",
      "('52', 0.0954003305647543)\n",
      "('larger', 0.09520182537088011)\n",
      "('sizing', 0.09331951616409473)\n",
      "('sparkly', 0.0931077361203233)\n",
      "('looser', 0.09180344251059776)\n",
      "('gone', 0.09045674983600022)\n",
      "('flowy', 0.08863108086191399)\n",
      "('4l', 0.08486210609658809)\n",
      "('coat', 0.08443595764257343)\n",
      "('based', 0.08315051534049507)\n",
      "('shift', 0.0826564073500933)\n",
      "('frame', 0.0804534534287332)\n",
      "('extra', 0.07968124038521203)\n",
      "('stop', 0.07950594731940956)\n",
      "('everyday', 0.07905834975160766)\n",
      "('least', 0.07795450648535147)\n",
      "('together', 0.07633687271565774)\n",
      "\n"
     ]
    }
   ],
   "source": [
    "for i in range(0, 3):\n",
    "    weight = [(w, theta[i][wordId[w]]) for w in wordSet]\n",
    "    weight.sort(key=lambda tup: tup[1])\n",
    "    weight.reverse()\n",
    "    for j in range(0, 50):\n",
    "        print(weight[j])\n",
    "    print()"
   ]
  },
  {
   "cell_type": "code",
   "execution_count": 162,
   "metadata": {},
   "outputs": [
    {
     "data": {
      "text/plain": [
       "{'fit': 14105, 'small': 2614, 'large': 2535, 'other': 0}"
      ]
     },
     "execution_count": 162,
     "metadata": {},
     "output_type": "execute_result"
    }
   ],
   "source": [
    "statistic_analyse(data_dev)"
   ]
  },
  {
   "cell_type": "code",
   "execution_count": 163,
   "metadata": {},
   "outputs": [
    {
     "data": {
      "text/plain": [
       "{'fit': 14105, 'small': 2614, 'large': 2535, 'other': 0}"
      ]
     },
     "execution_count": 163,
     "metadata": {},
     "output_type": "execute_result"
    }
   ],
   "source": [
    "statistic_analyse(data_dev)"
   ]
  },
  {
   "cell_type": "code",
   "execution_count": 164,
   "metadata": {},
   "outputs": [
    {
     "data": {
      "text/plain": [
       "{'fit': 113704, 'small': 20574, 'large': 19757, 'other': 0}"
      ]
     },
     "execution_count": 164,
     "metadata": {},
     "output_type": "execute_result"
    }
   ],
   "source": [
    "statistic_analyse(data_train)"
   ]
  },
  {
   "cell_type": "code",
   "execution_count": null,
   "metadata": {},
   "outputs": [],
   "source": []
  }
 ],
 "metadata": {
  "kernelspec": {
   "display_name": "Python 3",
   "language": "python",
   "name": "python3"
  },
  "language_info": {
   "codemirror_mode": {
    "name": "ipython",
    "version": 3
   },
   "file_extension": ".py",
   "mimetype": "text/x-python",
   "name": "python",
   "nbconvert_exporter": "python",
   "pygments_lexer": "ipython3",
   "version": "3.7.4"
  }
 },
 "nbformat": 4,
 "nbformat_minor": 4
}
